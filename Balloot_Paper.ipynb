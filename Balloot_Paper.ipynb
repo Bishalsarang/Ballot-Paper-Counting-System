{
  "nbformat": 4,
  "nbformat_minor": 0,
  "metadata": {
    "colab": {
      "name": "Balloot Paper.ipynb",
      "version": "0.3.2",
      "provenance": [],
      "collapsed_sections": [],
      "toc_visible": true,
      "include_colab_link": true
    },
    "kernelspec": {
      "name": "python3",
      "display_name": "Python 3"
    },
    "accelerator": "GPU"
  },
  "cells": [
    {
      "cell_type": "markdown",
      "metadata": {
        "id": "view-in-github",
        "colab_type": "text"
      },
      "source": [
        "<a href=\"https://colab.research.google.com/github/sarangbishal/Ballot-Paper-Counting-System/blob/master/Balloot_Paper.ipynb\" target=\"_parent\"><img src=\"https://colab.research.google.com/assets/colab-badge.svg\" alt=\"Open In Colab\"/></a>"
      ]
    },
    {
      "cell_type": "markdown",
      "metadata": {
        "id": "skSozudRcmly",
        "colab_type": "text"
      },
      "source": [
        "### Import all required libraries"
      ]
    },
    {
      "cell_type": "code",
      "metadata": {
        "id": "cRW3sTrVAk3W",
        "colab_type": "code",
        "colab": {}
      },
      "source": [
        "import numpy as np\n",
        "import matplotlib.pyplot as plt\n",
        "\n",
        "import imutils\n",
        "import cv2\n",
        "\n",
        "from collections import Counter\n",
        "from imutils.perspective import four_point_transform\n",
        "from imutils import contours"
      ],
      "execution_count": 0,
      "outputs": []
    },
    {
      "cell_type": "markdown",
      "metadata": {
        "id": "D13CEmgsdpWF",
        "colab_type": "text"
      },
      "source": [
        "### Read Image and detect edges using cv2 Canny algorithm"
      ]
    },
    {
      "cell_type": "code",
      "metadata": {
        "id": "-_qPklIFeNBP",
        "colab_type": "code",
        "colab": {}
      },
      "source": [
        "FILE_NAME = \"Kathmandu10.jpg\""
      ],
      "execution_count": 0,
      "outputs": []
    },
    {
      "cell_type": "code",
      "metadata": {
        "id": "rC9xKwUYApqx",
        "colab_type": "code",
        "colab": {}
      },
      "source": [
        "image = cv2.imread(FILE_NAME)\n",
        "image_matplotlib_compat = imutils.opencv2matplotlib(image)\n",
        "\n",
        "gray = cv2.cvtColor(image, cv2.COLOR_BGR2GRAY)\n",
        "blurred = cv2.GaussianBlur(gray, (5, 5), 0)\n",
        "\n",
        "# edged = cv2.Canny(blurred, 75, 200)\n",
        "# auto_edged = imutils.auto_canny(gray)\n",
        "\n",
        "# plt.imsave(\"image_1.jpg\", edged)\n",
        "# plt.imshow(auto_edged)"
      ],
      "execution_count": 0,
      "outputs": []
    },
    {
      "cell_type": "markdown",
      "metadata": {
        "id": "FStoSl5BhgFb",
        "colab_type": "text"
      },
      "source": [
        "### Add contour detection and isolate candidate boxes"
      ]
    },
    {
      "cell_type": "code",
      "metadata": {
        "id": "aeHSwF0zxBZY",
        "colab_type": "code",
        "colab": {
          "base_uri": "https://localhost:8080/",
          "height": 34
        },
        "outputId": "42bcaf95-27a2-4ee4-ec3b-90c11e9e7de9"
      },
      "source": [
        "thresh = cv2.threshold(gray, 0, 255, cv2.THRESH_BINARY_INV | cv2.THRESH_OTSU)[1]\n",
        "cnts = cv2.findContours(thresh.copy(), cv2.RETR_EXTERNAL, cv2.CHAIN_APPROX_SIMPLE)\n",
        "cnts = imutils.grab_contours(cnts)\n",
        "rows = []\n",
        "\n",
        "most_common_area = Counter([cv2.contourArea(c) for c in cnts if len(cv2.approxPolyDP(c, 0.02 * cv2.arcLength(c, True), True)) == 4]).most_common(1)[0][0]\n",
        "area_delta  = 999\n",
        "i = 0\n",
        "# print(most_common_area)\n",
        "for c in cnts:\n",
        "    peri = cv2.arcLength(c, True)\n",
        "    approx = cv2.approxPolyDP(c, 0.02 * peri, True)\n",
        "    current_contour_area = cv2.contourArea(c)\n",
        "    # print(current_contour_area)\n",
        "    if len(approx) == 4  and abs(current_contour_area - most_common_area) <= area_delta:\n",
        "        rows.append(c)\n",
        "    \n",
        "print(len(rows))"
      ],
      "execution_count": 99,
      "outputs": [
        {
          "output_type": "stream",
          "text": [
            "39\n"
          ],
          "name": "stdout"
        }
      ]
    },
    {
      "cell_type": "markdown",
      "metadata": {
        "id": "KoFvSkOZA24W",
        "colab_type": "text"
      },
      "source": [
        "### Arrange each boxes in the order as they appear on paper"
      ]
    },
    {
      "cell_type": "code",
      "metadata": {
        "id": "AC5RFbCwyokQ",
        "colab_type": "code",
        "colab": {
          "base_uri": "https://localhost:8080/",
          "height": 34
        },
        "outputId": "7f1e4ab6-6542-404d-97e5-4e9ad5c96d2b"
      },
      "source": [
        "rows = contours.sort_contours(rows, method=\"top-to-bottom\")[0]\n",
        "\n",
        "k = 0\n",
        "sorted_boxes = []\n",
        "\n",
        "for (q, i) in enumerate(np.arange(0, len(rows), 3)):\n",
        "    cnts = contours.sort_contours(rows[i:i + 3], method = \"left-to-right\")[0]\n",
        "    sorted_boxes.extend(cnts)\n",
        "\n",
        "print(len(sorted_boxes))\n",
        "\n",
        "for c in sorted_boxes:\n",
        "    k += 1\n",
        "    peri = cv2.arcLength(c, True)\n",
        "    approx = cv2.approxPolyDP(c, 0.02 * peri, True)\n",
        "    paper = four_point_transform(image_matplotlib_compat, approx.reshape(4, 2))\n",
        "    plt.imsave(\"naya/test_\" + str(k) + \".jpg\", paper)\n",
        "\n",
        "    \n",
        "plt.imsave(\"ou.jpg\", image_matplotlib_compat)"
      ],
      "execution_count": 100,
      "outputs": [
        {
          "output_type": "stream",
          "text": [
            "39\n"
          ],
          "name": "stdout"
        }
      ]
    },
    {
      "cell_type": "code",
      "metadata": {
        "id": "FtgJcq1niu1k",
        "colab_type": "code",
        "colab": {}
      },
      "source": [
        ""
      ],
      "execution_count": 0,
      "outputs": []
    }
  ]
}