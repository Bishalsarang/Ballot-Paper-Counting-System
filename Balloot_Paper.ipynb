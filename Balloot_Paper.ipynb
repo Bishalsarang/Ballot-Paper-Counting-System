{
  "nbformat": 4,
  "nbformat_minor": 0,
  "metadata": {
    "colab": {
      "name": "Balloot Paper.ipynb",
      "version": "0.3.2",
      "provenance": [],
      "collapsed_sections": [],
      "include_colab_link": true
    },
    "kernelspec": {
      "name": "python3",
      "display_name": "Python 3"
    },
    "accelerator": "GPU"
  },
  "cells": [
    {
      "cell_type": "markdown",
      "metadata": {
        "id": "view-in-github",
        "colab_type": "text"
      },
      "source": [
        "<a href=\"https://colab.research.google.com/github/sarangbishal/Ballot-Paper-Counting-System/blob/master/Balloot_Paper.ipynb\" target=\"_parent\"><img src=\"https://colab.research.google.com/assets/colab-badge.svg\" alt=\"Open In Colab\"/></a>"
      ]
    },
    {
      "cell_type": "markdown",
      "metadata": {
        "id": "skSozudRcmly",
        "colab_type": "text"
      },
      "source": [
        "### Import all required libraries"
      ]
    },
    {
      "cell_type": "code",
      "metadata": {
        "id": "cRW3sTrVAk3W",
        "colab_type": "code",
        "colab": {}
      },
      "source": [
        "import numpy as np\n",
        "import matplotlib.pyplot as plt\n",
        "\n",
        "import imutils\n",
        "import cv2\n",
        "\n",
        "from collections import Counter\n",
        "from imutils.perspective import four_point_transform\n",
        "from imutils import contours"
      ],
      "execution_count": 0,
      "outputs": []
    },
    {
      "cell_type": "markdown",
      "metadata": {
        "id": "D13CEmgsdpWF",
        "colab_type": "text"
      },
      "source": [
        "### Read Image and detect edges using cv2 Canny algorithm"
      ]
    },
    {
      "cell_type": "code",
      "metadata": {
        "id": "-_qPklIFeNBP",
        "colab_type": "code",
        "colab": {}
      },
      "source": [
        "FILE_PATH = \"Kathmandured.jpg\""
      ],
      "execution_count": 0,
      "outputs": []
    },
    {
      "cell_type": "code",
      "metadata": {
        "id": "rC9xKwUYApqx",
        "colab_type": "code",
        "colab": {}
      },
      "source": [
        "# Read Image\n",
        "image = cv2.imread(FILE_PATH)\n",
        "# Since matplotlib uses different color space\n",
        "# Convert to matplotlib space for debugging purpose in notebook\n",
        "image_matplotlib_compat = imutils.opencv2matplotlib(image)\n",
        "\n",
        "# Preprocess the image\n",
        "gray = cv2.cvtColor(image, cv2.COLOR_BGR2GRAY)\n",
        "blurred = cv2.GaussianBlur(gray, (5, 5), 0)\n",
        "\n",
        "# edged = cv2.Canny(blurred, 75, 200)\n",
        "# auto_edged = imutils.auto_canny(gray)\n",
        "\n",
        "# plt.imsave(\"image_1.jpg\", edged)\n",
        "# plt.imshow(auto_edged)"
      ],
      "execution_count": 0,
      "outputs": []
    },
    {
      "cell_type": "markdown",
      "metadata": {
        "id": "FStoSl5BhgFb",
        "colab_type": "text"
      },
      "source": [
        "### Add contour detection and isolate candidate boxes"
      ]
    },
    {
      "cell_type": "code",
      "metadata": {
        "id": "aeHSwF0zxBZY",
        "colab_type": "code",
        "outputId": "3751184f-304b-446d-9b15-c3820d54e7c3",
        "colab": {
          "base_uri": "https://localhost:8080/",
          "height": 35
        }
      },
      "source": [
        "thresh = cv2.threshold(blurred, 0, 255, cv2.THRESH_BINARY_INV | cv2.THRESH_OTSU)[1]\n",
        "\n",
        "# plt.imshow(thresh)\n",
        "cnts = cv2.findContours(thresh.copy(), cv2.RETR_EXTERNAL, cv2.CHAIN_APPROX_SIMPLE)\n",
        "cnts = imutils.grab_contours(cnts)\n",
        "\n",
        "# List to grab each boxes contours\n",
        "rows = []\n",
        "\n",
        "# Find Most common contour area\n",
        "most_common_area = Counter([cv2.contourArea(c) for c in cnts if len(cv2.approxPolyDP(c, 0.02 * cv2.arcLength(c, True), True)) == 4]).most_common(1)[0][0]\n",
        "# Consider contour area upto this threshold\n",
        "area_delta  = 999\n",
        "\n",
        "\n",
        "i = 0\n",
        "# print(most_common_area)\n",
        "for c in cnts:\n",
        "    \n",
        "    # Calculate Perimeter of Contour\n",
        "    peri = cv2.arcLength(c, True)\n",
        "    # Approximate a closed polygon with minimum number of points\n",
        "    approx = cv2.approxPolyDP(c, 0.02 * peri, True)\n",
        "    # Calculate area of current contour\n",
        "    current_contour_area = cv2.contourArea(c)\n",
        "    # print(current_contour_area)\n",
        "    \n",
        "    # If 4 corners are found and contour area satisfy minimum threshold\n",
        "    if len(approx) == 4  and abs(current_contour_area - most_common_area) <= area_delta:\n",
        "        rows.append(c)\n",
        "    \n",
        "print(len(rows))"
      ],
      "execution_count": 4,
      "outputs": [
        {
          "output_type": "stream",
          "text": [
            "39\n"
          ],
          "name": "stdout"
        }
      ]
    },
    {
      "cell_type": "markdown",
      "metadata": {
        "id": "KoFvSkOZA24W",
        "colab_type": "text"
      },
      "source": [
        "### Arrange each boxes in the order as they appear on paper"
      ]
    },
    {
      "cell_type": "code",
      "metadata": {
        "id": "AC5RFbCwyokQ",
        "colab_type": "code",
        "outputId": "08bca7cd-bc33-42bc-c615-1f877e1a045a",
        "colab": {
          "base_uri": "https://localhost:8080/",
          "height": 35
        }
      },
      "source": [
        "# First sort contours in top to bottom manner\n",
        "rows = contours.sort_contours(rows, method=\"top-to-bottom\")[0]\n",
        "\n",
        "k = 0\n",
        "\n",
        "# List to store sorted boxes as they appear on paper\n",
        "sorted_boxes = []\n",
        "\n",
        "# For every 3 columns sort them according to left to right\n",
        "# and add to sorted boxes\n",
        "for (q, i) in enumerate(np.arange(0, len(rows), 3)):\n",
        "    cnts = contours.sort_contours(rows[i:i + 3], method = \"left-to-right\")[0]\n",
        "    sorted_boxes.extend(cnts)\n",
        "\n",
        "print(len(sorted_boxes))\n",
        "\n",
        "# List to store isolated box image converted to HSV color space\n",
        "# for color detection and masking\n",
        "isolated_box_img = list()\n",
        "\n",
        "#\n",
        "for c in sorted_boxes:\n",
        "    k += 1\n",
        "    peri = cv2.arcLength(c, True)\n",
        "    approx = cv2.approxPolyDP(c, 0.02 * peri, True)\n",
        "    \n",
        "    isolated_box_matplotlib_compat = four_point_transform(image_matplotlib_compat, approx.reshape(4, 2))\n",
        "    isolated_box_org = four_point_transform(image, approx.reshape(4, 2))\n",
        "    \n",
        "    isolated_box_hsv = cv2.cvtColor(isolated_box_org, cv2.COLOR_BGR2HSV)\n",
        "    \n",
        "    isolated_box_img.append(isolated_box_hsv)\n",
        "    # plt.imsave(\"naya/test_\" + str(k) + \".jpg\", isolated_box)\n",
        "\n",
        "    \n",
        "# plt.imsave(\"ou.jpg\", image_matplotlib_compat)"
      ],
      "execution_count": 5,
      "outputs": [
        {
          "output_type": "stream",
          "text": [
            "39\n"
          ],
          "name": "stdout"
        }
      ]
    },
    {
      "cell_type": "markdown",
      "metadata": {
        "id": "7KavAOuLViLa",
        "colab_type": "text"
      },
      "source": [
        "### Detect red colors inside any of the boxes"
      ]
    },
    {
      "cell_type": "code",
      "metadata": {
        "id": "vkPaklbxPcag",
        "colab_type": "code",
        "colab": {
          "base_uri": "https://localhost:8080/",
          "height": 53
        },
        "outputId": "d85fb0b4-7760-4ebd-96b7-bf5aece9a160"
      },
      "source": [
        "lower_red = np.array([0,120,70])\n",
        "upper_red = np.array([10,255,255])\n",
        "\n",
        "for i, hsv in enumerate(isolated_box_img):\n",
        "    mask = cv2.inRange(hsv, lower_red, upper_red)\n",
        "    mask = cv2.inRange(hsv, lower_red, upper_red)\n",
        "    \n",
        "    # print(cv2.countNonZero(mask))\n",
        "  \n",
        "    if(np.any(mask != 0)):\n",
        "        #No color found\n",
        "        print(\"color found at index\", i)\n",
        "       \n",
        "    # bgless = cv2.bitwise_and(image_matplotlib_compat,image_matplotlib_compat, mask= mask)\n",
        "    # plt.imshow(bgless)   \n",
        "    \n",
        "    "
      ],
      "execution_count": 6,
      "outputs": [
        {
          "output_type": "stream",
          "text": [
            "color found at index 0\n",
            "color found at index 1\n"
          ],
          "name": "stdout"
        }
      ]
    },
    {
      "cell_type": "code",
      "metadata": {
        "colab_type": "code",
        "id": "_QJZdnO2SlSd",
        "colab": {}
      },
      "source": [
        ""
      ],
      "execution_count": 0,
      "outputs": []
    },
    {
      "cell_type": "code",
      "metadata": {
        "id": "vdcRqM1x9C8g",
        "colab_type": "code",
        "colab": {}
      },
      "source": [
        ""
      ],
      "execution_count": 0,
      "outputs": []
    }
  ]
}