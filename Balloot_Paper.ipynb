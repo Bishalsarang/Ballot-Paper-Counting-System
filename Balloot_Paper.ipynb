{
  "nbformat": 4,
  "nbformat_minor": 0,
  "metadata": {
    "colab": {
      "name": "Balloot Paper.ipynb",
      "version": "0.3.2",
      "provenance": [],
      "collapsed_sections": [],
      "toc_visible": true,
      "include_colab_link": true
    },
    "kernelspec": {
      "name": "python3",
      "display_name": "Python 3"
    },
    "accelerator": "GPU"
  },
  "cells": [
    {
      "cell_type": "markdown",
      "metadata": {
        "id": "view-in-github",
        "colab_type": "text"
      },
      "source": [
        "<a href=\"https://colab.research.google.com/github/sarangbishal/Ballot-Paper-Counting-System/blob/master/Balloot_Paper.ipynb\" target=\"_parent\"><img src=\"https://colab.research.google.com/assets/colab-badge.svg\" alt=\"Open In Colab\"/></a>"
      ]
    },
    {
      "cell_type": "markdown",
      "metadata": {
        "id": "skSozudRcmly",
        "colab_type": "text"
      },
      "source": [
        "### Import all required libraries"
      ]
    },
    {
      "cell_type": "code",
      "metadata": {
        "id": "cRW3sTrVAk3W",
        "colab_type": "code",
        "colab": {}
      },
      "source": [
        "import numpy as np\n",
        "import matplotlib.pyplot as plt\n",
        "\n",
        "import imutils\n",
        "import cv2\n",
        "\n",
        "from collections import Counter\n",
        "from imutils.perspective import four_point_transform\n",
        "from imutils import contours"
      ],
      "execution_count": 0,
      "outputs": []
    },
    {
      "cell_type": "markdown",
      "metadata": {
        "id": "D13CEmgsdpWF",
        "colab_type": "text"
      },
      "source": [
        "### Read Image and detect edges using cv2 Canny algorithm"
      ]
    },
    {
      "cell_type": "code",
      "metadata": {
        "id": "-_qPklIFeNBP",
        "colab_type": "code",
        "colab": {}
      },
      "source": [
        "FILE_PATH = \"sample__29.jpg\""
      ],
      "execution_count": 0,
      "outputs": []
    },
    {
      "cell_type": "code",
      "metadata": {
        "id": "rC9xKwUYApqx",
        "colab_type": "code",
        "colab": {}
      },
      "source": [
        "# Read Image\n",
        "image = cv2.imread(FILE_PATH)\n",
        "\n",
        "# Since matplotlib uses different color space\n",
        "# Convert to matplotlib space for debugging purpose in notebook\n",
        "image_matplotlib_compat = imutils.opencv2matplotlib(image)\n",
        "\n",
        "# Preprocess the image\n",
        "gray = cv2.cvtColor(image, cv2.COLOR_BGR2GRAY)\n",
        "blurred = cv2.GaussianBlur(gray, (5, 5), 0)\n",
        "\n",
        "# edged = cv2.Canny(blurred, 75, 200)\n",
        "# auto_edged = imutils.auto_canny(gray)\n",
        "\n",
        "# plt.imsave(\"image_1.jpg\", edged)\n",
        "# plt.imshow(auto_edged)"
      ],
      "execution_count": 0,
      "outputs": []
    },
    {
      "cell_type": "markdown",
      "metadata": {
        "id": "FStoSl5BhgFb",
        "colab_type": "text"
      },
      "source": [
        "### Add contour detection and isolate candidate boxes"
      ]
    },
    {
      "cell_type": "code",
      "metadata": {
        "id": "aeHSwF0zxBZY",
        "colab_type": "code",
        "colab": {}
      },
      "source": [
        "thresh = cv2.threshold(blurred, 0, 255, cv2.THRESH_BINARY_INV | cv2.THRESH_OTSU)[1]\n",
        "\n",
        "# plt.imshow(thresh)\n",
        "cnts = cv2.findContours(thresh.copy(), cv2.RETR_EXTERNAL, cv2.CHAIN_APPROX_SIMPLE)\n",
        "cnts = imutils.grab_contours(cnts)\n",
        "\n",
        "# List to grab each boxes contours\n",
        "rows = []\n",
        "\n",
        "# Find Most common contour area\n",
        "most_common_area = Counter([cv2.contourArea(c) for c in cnts if len(cv2.approxPolyDP(c, 0.02 * cv2.arcLength(c, True), True)) == 4]).most_common(1)[0][0]\n",
        "# Consider contour area upto this threshold\n",
        "area_delta  = 999\n",
        "\n",
        "# Read original image which is later modified \n",
        "# by filling each boxes with black color so as\n",
        "# to detect red color only outside the boxes for invalid\n",
        "image_modified = cv2.imread(FILE_PATH)\n",
        "i = 0\n",
        "# print(most_common_area)\n",
        "for c in cnts:\n",
        "    \n",
        "    # Calculate Perimeter of Contour\n",
        "    peri = cv2.arcLength(c, True)\n",
        "    # Approximate a closed polygon with minimum number of points\n",
        "    approx = cv2.approxPolyDP(c, 0.02 * peri, True)\n",
        "    # Calculate area of current contour\n",
        "    current_contour_area = cv2.contourArea(c)\n",
        "    # print(current_contour_area)\n",
        "    \n",
        "    # If 4 corners are found and contour area satisfy minimum threshold\n",
        "    if len(approx) == 4  and abs(current_contour_area - most_common_area) <= area_delta:\n",
        "        \n",
        "        # Fill each boxes with black color inorder to detect red color only outside the boxes\n",
        "        cv2.fillPoly(image_modified, pts =[approx], color=(0,0,0))\n",
        "        rows.append(c)\n",
        "\n",
        "if len(rows) != 39:\n",
        "    print(\"Invalid Ballot Paper\")\n",
        "    print(len(rows))\n",
        "#plt.imsave(\"testp.jpg\",imutils.opencv2matplotlib(image_modified))"
      ],
      "execution_count": 0,
      "outputs": []
    },
    {
      "cell_type": "markdown",
      "metadata": {
        "id": "KoFvSkOZA24W",
        "colab_type": "text"
      },
      "source": [
        "### Arrange each boxes in the order as they appear on paper"
      ]
    },
    {
      "cell_type": "code",
      "metadata": {
        "id": "AC5RFbCwyokQ",
        "colab_type": "code",
        "outputId": "c8dbcda7-bf2f-473b-ffc6-387b5d51ff43",
        "colab": {
          "base_uri": "https://localhost:8080/",
          "height": 34
        }
      },
      "source": [
        "# First sort contours in top to bottom manner\n",
        "rows = contours.sort_contours(rows, method=\"top-to-bottom\")[0]\n",
        "\n",
        "k = 0\n",
        "\n",
        "# List to store sorted boxes as they appear on paper\n",
        "sorted_boxes = []\n",
        "\n",
        "# For every 3 columns sort them according to left to right\n",
        "# and add to sorted boxes\n",
        "for (q, i) in enumerate(np.arange(0, len(rows), 3)):\n",
        "    cnts = contours.sort_contours(rows[i:i + 3], method = \"left-to-right\")[0]\n",
        "    sorted_boxes.extend(cnts)\n",
        "\n",
        "print(len(sorted_boxes))\n",
        "\n",
        "# List to store isolated box image converted to HSV color space\n",
        "# for color detection and masking\n",
        "isolated_box_img = list()\n",
        "\n",
        "#\n",
        "for c in sorted_boxes:\n",
        "    k += 1\n",
        "    peri = cv2.arcLength(c, True)\n",
        "    approx = cv2.approxPolyDP(c, 0.02 * peri, True)\n",
        "    \n",
        "    isolated_box_matplotlib_compat = four_point_transform(image_matplotlib_compat, approx.reshape(4, 2))\n",
        "    isolated_box_org = four_point_transform(image, approx.reshape(4, 2))\n",
        "    \n",
        "    isolated_box_hsv = cv2.cvtColor(isolated_box_org, cv2.COLOR_BGR2HSV)\n",
        "    \n",
        "    isolated_box_img.append(isolated_box_hsv)\n",
        "    # plt.imsave(\"naya/test_\" + str(k) + \".jpg\", isolated_box)\n",
        "\n",
        "    \n",
        "# plt.imsave(\"ou.jpg\", image_matplotlib_compat)"
      ],
      "execution_count": 29,
      "outputs": [
        {
          "output_type": "stream",
          "text": [
            "39\n"
          ],
          "name": "stdout"
        }
      ]
    },
    {
      "cell_type": "markdown",
      "metadata": {
        "id": "IBIaSbnh6V8i",
        "colab_type": "text"
      },
      "source": [
        "\n",
        "## Verify if the paper is invalid or assign vote to particuular party if valid\n",
        "*   If number of boxes != 39, it is either the box is not detected properly or marker sign crosses the boundary\n",
        "*   If number of boxes == 39: then boxes are read properly\n",
        "* Find red pixels inside each boxes\n",
        "* If two or more than two boxes has marker, it is invalid\n",
        "* If red color is detected outside the 39 boxes, then it is invalid\n",
        "\n",
        "\n"
      ]
    },
    {
      "cell_type": "markdown",
      "metadata": {
        "id": "7KavAOuLViLa",
        "colab_type": "text"
      },
      "source": [
        "### Detect red colors inside any of the boxes\n",
        "![Outside](https://github.com/sarangbishal/Ballot-Paper-Counting-System/blob/master/tests/Kathmanduoutside.jpg)\n"
      ]
    },
    {
      "cell_type": "code",
      "metadata": {
        "id": "vkPaklbxPcag",
        "colab_type": "code",
        "outputId": "03cf6155-99a5-4a75-943d-f05b7bdb29b0",
        "colab": {
          "base_uri": "https://localhost:8080/",
          "height": 34
        }
      },
      "source": [
        "lower_red = np.array([0,120,70])\n",
        "upper_red = np.array([10,255,255])\n",
        "parties = [0] * 39\n",
        "for i, hsv in enumerate(isolated_box_img):\n",
        "    mask = cv2.inRange(hsv, lower_red, upper_red)\n",
        "    \n",
        "    # print(cv2.countNonZero(mask))\n",
        "    \n",
        "    if(np.any(mask != 0)):\n",
        "        # Mark the position where color is found\n",
        "        parties[i] = 1\n",
        "        print(\"color found at index\", i)\n",
        "       \n",
        "    # bgless = cv2.bitwise_and(image_matplotlib_compat,image_matplotlib_compat, mask= mask)\n",
        "    # plt.imshow(bgless)   \n",
        "    \n",
        "    "
      ],
      "execution_count": 30,
      "outputs": [
        {
          "output_type": "stream",
          "text": [
            "color found at index 27\n"
          ],
          "name": "stdout"
        }
      ]
    },
    {
      "cell_type": "markdown",
      "metadata": {
        "id": "SLPAjNv56J4h",
        "colab_type": "text"
      },
      "source": [
        "#### Color is found outside the box"
      ]
    },
    {
      "cell_type": "code",
      "metadata": {
        "colab_type": "code",
        "id": "_QJZdnO2SlSd",
        "colab": {}
      },
      "source": [
        "def no_color_outside():\n",
        "    # Convert full page image to hsv\n",
        "    full_page_hsv = cv2.cvtColor(image_modified, cv2.COLOR_BGR2HSV)\n",
        "    # Create a mask for red color\n",
        "    mask =  cv2.inRange(full_page_hsv, lower_red, upper_red)\n",
        "    \n",
        "    # IF all pixels are black i.e no red detected\n",
        "    return np.all(mask == 0)\n",
        "    \n"
      ],
      "execution_count": 0,
      "outputs": []
    },
    {
      "cell_type": "code",
      "metadata": {
        "id": "vdcRqM1x9C8g",
        "colab_type": "code",
        "colab": {
          "base_uri": "https://localhost:8080/",
          "height": 205
        },
        "outputId": "51a5ed82-0e4d-4e7b-da5f-69688e70bbcb"
      },
      "source": [
        "def isValid():\n",
        "    # Returns True if all the boxes are detected, no color outside any of the boxes and color is found at only one index\n",
        "    return len(sorted_boxes) == 39 and no_color_outside() and parties.count(1) == 1\n",
        "\n",
        "if(isValid()):\n",
        "    index = parties.index(1)\n",
        "    print(\"The party at index {} has got the vote\".format(index))\n",
        "    plt.imshow(isolated_box_img[index])\n",
        "else:\n",
        "    print(\"Invalid\")"
      ],
      "execution_count": 41,
      "outputs": [
        {
          "output_type": "stream",
          "text": [
            "The party at index 27 has got the vote\n"
          ],
          "name": "stdout"
        },
        {
          "output_type": "display_data",
          "data": {
            "image/png": "[encoded data removed]",
            "text/plain": [
              "<Figure size 432x288 with 1 Axes>"
            ]
          },
          "metadata": {
            "tags": []
          }
        }
      ]
    },
    {
      "cell_type": "code",
      "metadata": {
        "id": "i6bwUg6_Z_fK",
        "colab_type": "code",
        "colab": {}
      },
      "source": [
        ""
      ],
      "execution_count": 0,
      "outputs": []
    }
  ]
}