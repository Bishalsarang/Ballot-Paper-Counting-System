{
  "nbformat": 4,
  "nbformat_minor": 0,
  "metadata": {
    "colab": {
      "name": "synthesizer.ipynb",
      "version": "0.3.2",
      "provenance": [],
      "collapsed_sections": [],
      "include_colab_link": true
    },
    "kernelspec": {
      "name": "python3",
      "display_name": "Python 3"
    },
    "accelerator": "GPU"
  },
  "cells": [
    {
      "cell_type": "markdown",
      "metadata": {
        "id": "view-in-github",
        "colab_type": "text"
      },
      "source": [
        "<a href=\"https://colab.research.google.com/github/sarangbishal/Ballot-Paper-Counting-System/blob/master/synthesizer.ipynb\" target=\"_parent\"><img src=\"https://colab.research.google.com/assets/colab-badge.svg\" alt=\"Open In Colab\"/></a>"
      ]
    },
    {
      "cell_type": "markdown",
      "metadata": {
        "id": "-CFR28fEQyrw",
        "colab_type": "text"
      },
      "source": [
        "# Synthesize Data Using a logo and a blank ballot paper"
      ]
    },
    {
      "cell_type": "markdown",
      "metadata": {
        "id": "eDk1tiM4RUFq",
        "colab_type": "text"
      },
      "source": [
        "We are going to make data using blank ballot paper and swastika symbol by randomization"
      ]
    },
    {
      "cell_type": "code",
      "metadata": {
        "id": "yjN0rOfeCilA",
        "colab_type": "code",
        "colab": {}
      },
      "source": [
        "!mkdir synthesized"
      ],
      "execution_count": 0,
      "outputs": []
    },
    {
      "cell_type": "code",
      "metadata": {
        "id": "6tzdY0OjCdNE",
        "colab_type": "code",
        "colab": {}
      },
      "source": [
        "import PIL\n",
        "from PIL import Image"
      ],
      "execution_count": 0,
      "outputs": []
    },
    {
      "cell_type": "markdown",
      "metadata": {
        "id": "hlfLdiotQ_ZM",
        "colab_type": "text"
      },
      "source": [
        "## Few datsets(no rotation or randomization)"
      ]
    },
    {
      "cell_type": "code",
      "metadata": {
        "id": "5s3Bs7sHCgHX",
        "colab_type": "code",
        "colab": {}
      },
      "source": [
        "# STrting x and y coordinates\n",
        "x, y = 300, 50\n",
        "start_x , start_y = 150 , 950\n",
        "# 150, 1000\n",
        "# Open background image with blank image and swastika logo\n",
        "background = Image.open(\"blank.jpg\")\n",
        "width = 2000\n",
        "height = 4800\n",
        "\n",
        "\n",
        "foreground = Image.open(\"output-onlinepngtools_4_200x200.png\")\n",
        "i = 0\n",
        "temp = background.copy()\n",
        "while start_y <= height:\n",
        "    background.paste(foreground, (start_x,start_y), foreground)\n",
        "    background.save(\"synthesized/sample_\" + str(i) + \".jpg\")\n",
        "    background = temp.copy()\n",
        "    start_x += 300\n",
        "    if start_x > width:\n",
        "        start_x = 150\n",
        "        start_y += 300\n",
        "    \n",
        "    i += 1\n",
        "background.paste(foreground, (start_x,start_y), foreground)\n",
        "background.save(\"synthesized/sample_\" + str(i) + \".jpg\")"
      ],
      "execution_count": 0,
      "outputs": []
    },
    {
      "cell_type": "code",
      "metadata": {
        "id": "pnWZizUUJtSJ",
        "colab_type": "code",
        "colab": {
          "base_uri": "https://localhost:8080/",
          "height": 1707
        },
        "outputId": "2ac843d8-a3bc-410a-a115-c252218276b7"
      },
      "source": [
        "!zip -r ./synthesized.zip ./synthesized/"
      ],
      "execution_count": 35,
      "outputs": [
        {
          "output_type": "stream",
          "text": [
            "  adding: synthesized/ (stored 0%)\n",
            "  adding: synthesized/sample_21.jpg (deflated 50%)\n",
            "  adding: synthesized/sample_54.jpg (deflated 50%)\n",
            "  adding: synthesized/sample_84.jpg (deflated 50%)\n",
            "  adding: synthesized/sample_47.jpg (deflated 50%)\n",
            "  adding: synthesized/sample_0.jpg (deflated 50%)\n",
            "  adding: synthesized/sample_19.jpg (deflated 50%)\n",
            "  adding: synthesized/sample_56.jpg (deflated 50%)\n",
            "  adding: synthesized/sample_82.jpg (deflated 50%)\n",
            "  adding: synthesized/sample_38.jpg (deflated 50%)\n",
            "  adding: synthesized/sample_83.jpg (deflated 50%)\n",
            "  adding: synthesized/sample_31.jpg (deflated 50%)\n",
            "  adding: synthesized/sample_89.jpg (deflated 50%)\n",
            "  adding: synthesized/sample_85.jpg (deflated 50%)\n",
            "  adding: synthesized/sample_34.jpg (deflated 50%)\n",
            "  adding: synthesized/sample_78.jpg (deflated 50%)\n",
            "  adding: synthesized/sample_1.jpg (deflated 50%)\n",
            "  adding: synthesized/sample_28.jpg (deflated 50%)\n",
            "  adding: synthesized/sample_17.jpg (deflated 50%)\n",
            "  adding: synthesized/sample_72.jpg (deflated 50%)\n",
            "  adding: synthesized/sample_77.jpg (deflated 50%)\n",
            "  adding: synthesized/sample_9.jpg (deflated 50%)\n",
            "  adding: synthesized/sample_29.jpg (deflated 50%)\n",
            "  adding: synthesized/sample_64.jpg (deflated 50%)\n",
            "  adding: synthesized/sample_90.jpg (deflated 50%)\n",
            "  adding: synthesized/sample_41.jpg (deflated 50%)\n",
            "  adding: synthesized/sample_73.jpg (deflated 50%)\n",
            "  adding: synthesized/sample_55.jpg (deflated 50%)\n",
            "  adding: synthesized/sample_23.jpg (deflated 50%)\n",
            "  adding: synthesized/sample_16.jpg (deflated 50%)\n",
            "  adding: synthesized/sample_46.jpg (deflated 50%)\n",
            "  adding: synthesized/sample_12.jpg (deflated 50%)\n",
            "  adding: synthesized/sample_22.jpg (deflated 50%)\n",
            "  adding: synthesized/sample_66.jpg (deflated 50%)\n",
            "  adding: synthesized/sample_4.jpg (deflated 50%)\n",
            "  adding: synthesized/sample_13.jpg (deflated 50%)\n",
            "  adding: synthesized/sample_25.jpg (deflated 50%)\n",
            "  adding: synthesized/sample_75.jpg (deflated 50%)\n",
            "  adding: synthesized/sample_59.jpg (deflated 50%)\n",
            "  adding: synthesized/sample_69.jpg (deflated 50%)\n",
            "  adding: synthesized/sample_86.jpg (deflated 50%)\n",
            "  adding: synthesized/sample_61.jpg (deflated 50%)\n",
            "  adding: synthesized/sample_26.jpg (deflated 50%)\n",
            "  adding: synthesized/sample_50.jpg (deflated 50%)\n",
            "  adding: synthesized/sample_52.jpg (deflated 50%)\n",
            "  adding: synthesized/sample_40.jpg (deflated 50%)\n",
            "  adding: synthesized/sample_80.jpg (deflated 50%)\n",
            "  adding: synthesized/sample_43.jpg (deflated 50%)\n",
            "  adding: synthesized/sample_39.jpg (deflated 50%)\n",
            "  adding: synthesized/sample_27.jpg (deflated 50%)\n",
            "  adding: synthesized/sample_11.jpg (deflated 50%)\n",
            "  adding: synthesized/sample_81.jpg (deflated 50%)\n",
            "  adding: synthesized/sample_71.jpg (deflated 50%)\n",
            "  adding: synthesized/sample_65.jpg (deflated 50%)\n",
            "  adding: synthesized/sample_15.jpg (deflated 50%)\n",
            "  adding: synthesized/sample_51.jpg (deflated 50%)\n",
            "  adding: synthesized/sample_49.jpg (deflated 50%)\n",
            "  adding: synthesized/sample_74.jpg (deflated 50%)\n",
            "  adding: synthesized/sample_58.jpg (deflated 50%)\n",
            "  adding: synthesized/sample_20.jpg (deflated 50%)\n",
            "  adding: synthesized/sample_44.jpg (deflated 50%)\n",
            "  adding: synthesized/sample_33.jpg (deflated 50%)\n",
            "  adding: synthesized/sample_62.jpg (deflated 50%)\n",
            "  adding: synthesized/sample_36.jpg (deflated 50%)\n",
            "  adding: synthesized/sample_7.jpg (deflated 50%)\n",
            "  adding: synthesized/sample_91.jpg (deflated 50%)\n",
            "  adding: synthesized/sample_18.jpg (deflated 50%)\n",
            "  adding: synthesized/sample_76.jpg (deflated 50%)\n",
            "  adding: synthesized/sample_6.jpg (deflated 50%)\n",
            "  adding: synthesized/sample_53.jpg (deflated 50%)\n",
            "  adding: synthesized/sample_35.jpg (deflated 50%)\n",
            "  adding: synthesized/sample_32.jpg (deflated 50%)\n",
            "  adding: synthesized/sample_60.jpg (deflated 50%)\n",
            "  adding: synthesized/sample_2.jpg (deflated 50%)\n",
            "  adding: synthesized/sample_79.jpg (deflated 50%)\n",
            "  adding: synthesized/sample_37.jpg (deflated 50%)\n",
            "  adding: synthesized/sample_70.jpg (deflated 50%)\n",
            "  adding: synthesized/sample_8.jpg (deflated 50%)\n",
            "  adding: synthesized/sample_5.jpg (deflated 50%)\n",
            "  adding: synthesized/sample_45.jpg (deflated 50%)\n",
            "  adding: synthesized/sample_10.jpg (deflated 50%)\n",
            "  adding: synthesized/sample_3.jpg (deflated 50%)\n",
            "  adding: synthesized/sample_30.jpg (deflated 50%)\n",
            "  adding: synthesized/sample_14.jpg (deflated 50%)\n",
            "  adding: synthesized/sample_48.jpg (deflated 50%)\n",
            "  adding: synthesized/sample_63.jpg (deflated 50%)\n",
            "  adding: synthesized/sample_57.jpg (deflated 50%)\n",
            "  adding: synthesized/sample_67.jpg (deflated 50%)\n",
            "  adding: synthesized/sample_88.jpg (deflated 50%)\n",
            "  adding: synthesized/sample_87.jpg (deflated 50%)\n",
            "  adding: synthesized/sample_24.jpg (deflated 50%)\n",
            "  adding: synthesized/sample_42.jpg (deflated 50%)\n",
            "  adding: synthesized/sample_68.jpg (deflated 50%)\n"
          ],
          "name": "stdout"
        }
      ]
    },
    {
      "cell_type": "markdown",
      "metadata": {
        "id": "3QLEyYvqRKhS",
        "colab_type": "text"
      },
      "source": [
        "### Mark on random postion  using different swastika marker"
      ]
    },
    {
      "cell_type": "code",
      "metadata": {
        "id": "4mP-XBO3Plke",
        "colab_type": "code",
        "colab": {}
      },
      "source": [
        ""
      ],
      "execution_count": 0,
      "outputs": []
    }
  ]
}